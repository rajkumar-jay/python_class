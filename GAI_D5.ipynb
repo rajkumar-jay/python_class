{
  "cells": [
    {
      "cell_type": "markdown",
      "metadata": {
        "id": "RcrTEhYOQqII"
      },
      "source": [
        "# Evaluation Metrics"
      ]
    },
    {
      "cell_type": "code",
      "execution_count": null,
      "metadata": {
        "id": "5px40uHtQUne"
      },
      "outputs": [],
      "source": [
        "from sklearn.metrics import accuracy_score, precision_score, recall_score, f1_score, confusion_matrix\n",
        "import numpy as np"
      ]
    },
    {
      "cell_type": "code",
      "execution_count": null,
      "metadata": {
        "id": "igwrPWGTQwOp"
      },
      "outputs": [],
      "source": [
        "# Example data\n",
        "y_true = np.array([0, 1, 1, 0, 1, 1, 0, 0, 1, 1])\n",
        "y_pred = np.array([0, 1, 0, 0, 1, 1, 0, 1, 1, 0])"
      ]
    },
    {
      "cell_type": "code",
      "execution_count": null,
      "metadata": {
        "colab": {
          "base_uri": "https://localhost:8080/"
        },
        "id": "5Bj6t0WsQy1e",
        "outputId": "a6774adc-595d-453e-b142-80223e0d2f5b"
      },
      "outputs": [
        {
          "name": "stdout",
          "output_type": "stream",
          "text": [
            "Accuracy: 0.7\n"
          ]
        }
      ],
      "source": [
        "# Accuracy\n",
        "accuracy = accuracy_score(y_true, y_pred)\n",
        "print(f\"Accuracy: {accuracy}\")"
      ]
    },
    {
      "cell_type": "code",
      "execution_count": null,
      "metadata": {
        "colab": {
          "base_uri": "https://localhost:8080/"
        },
        "id": "tm6LJYjdQ0qh",
        "outputId": "4b5d1cdf-2c84-49ca-dcc6-049ce9b94bc8"
      },
      "outputs": [
        {
          "name": "stdout",
          "output_type": "stream",
          "text": [
            "Precision: 0.8\n"
          ]
        }
      ],
      "source": [
        "# Precision\n",
        "precision = precision_score(y_true, y_pred)\n",
        "print(f\"Precision: {precision}\")"
      ]
    },
    {
      "cell_type": "code",
      "execution_count": null,
      "metadata": {
        "colab": {
          "base_uri": "https://localhost:8080/"
        },
        "id": "efAVoiADQ3Ye",
        "outputId": "d2159ae4-f8eb-4f58-d037-617b71cec491"
      },
      "outputs": [
        {
          "name": "stdout",
          "output_type": "stream",
          "text": [
            "Recall: 0.6666666666666666\n"
          ]
        }
      ],
      "source": [
        "# Recall\n",
        "recall = recall_score(y_true, y_pred)\n",
        "print(f\"Recall: {recall}\")"
      ]
    },
    {
      "cell_type": "code",
      "execution_count": null,
      "metadata": {
        "colab": {
          "base_uri": "https://localhost:8080/"
        },
        "id": "cdXNOGUGQ4ql",
        "outputId": "ab18bb35-f1d9-4e93-81ef-0cc68d2afc8e"
      },
      "outputs": [
        {
          "name": "stdout",
          "output_type": "stream",
          "text": [
            "F1-Score: 0.7272727272727272\n"
          ]
        }
      ],
      "source": [
        "# F1-Score\n",
        "f1 = f1_score(y_true, y_pred)\n",
        "print(f\"F1-Score: {f1}\")"
      ]
    },
    {
      "cell_type": "code",
      "execution_count": null,
      "metadata": {
        "colab": {
          "base_uri": "https://localhost:8080/"
        },
        "id": "bBs3WRkgQ63u",
        "outputId": "682a9274-fdda-49cb-cb0e-580419ea27b1"
      },
      "outputs": [
        {
          "name": "stdout",
          "output_type": "stream",
          "text": [
            "Confusion Matrix:\n",
            "[[3 1]\n",
            " [2 4]]\n"
          ]
        }
      ],
      "source": [
        "# Confusion Matrix\n",
        "conf_matrix = confusion_matrix(y_true, y_pred)\n",
        "print(f\"Confusion Matrix:\\n{conf_matrix}\")"
      ]
    },
    {
      "cell_type": "markdown",
      "metadata": {
        "id": "HSG__gmJRFUS"
      },
      "source": [
        "# Cross Validation"
      ]
    },
    {
      "cell_type": "code",
      "execution_count": null,
      "metadata": {
        "id": "wQSrF-wXRLLv"
      },
      "outputs": [],
      "source": [
        "from sklearn.model_selection import cross_val_score, KFold"
      ]
    },
    {
      "cell_type": "code",
      "execution_count": null,
      "metadata": {
        "id": "giNcw2XSROGE"
      },
      "outputs": [],
      "source": [
        "# Example dataset\n",
        "from sklearn.datasets import load_iris\n",
        "from sklearn.linear_model import LogisticRegression\n",
        "\n",
        "iris = load_iris()\n",
        "X, y = iris.data, iris.target\n",
        "model = LogisticRegression(max_iter=200)"
      ]
    },
    {
      "cell_type": "code",
      "execution_count": null,
      "metadata": {
        "colab": {
          "base_uri": "https://localhost:8080/"
        },
        "id": "tIC-3un7RYSy",
        "outputId": "c671b7e5-db80-4de0-d1d2-4709d07e7037"
      },
      "outputs": [
        {
          "name": "stdout",
          "output_type": "stream",
          "text": [
            "K-Fold Cross-Validation Scores: [1.         1.         0.93333333 0.96666667 0.96666667]\n"
          ]
        }
      ],
      "source": [
        "# K-Fold Cross-Validation\n",
        "kf = KFold(n_splits=5, shuffle=True, random_state=42)\n",
        "kf_scores = cross_val_score(model, X, y, cv=kf)\n",
        "print(f\"K-Fold Cross-Validation Scores: {kf_scores}\")"
      ]
    },
    {
      "cell_type": "markdown",
      "metadata": {
        "id": "DI80ZejXRiVd"
      },
      "source": [
        "# Hands-on: Comparing different Classification Models"
      ]
    },
    {
      "cell_type": "code",
      "execution_count": null,
      "metadata": {
        "id": "K2pNROQGRiFW"
      },
      "outputs": [],
      "source": [
        "import numpy as np\n",
        "from sklearn.datasets import fetch_openml\n",
        "from sklearn.model_selection import cross_val_score, KFold\n",
        "from sklearn.linear_model import LogisticRegression\n",
        "from sklearn.ensemble import RandomForestClassifier\n",
        "from sklearn.svm import SVC\n",
        "from sklearn.preprocessing import StandardScaler\n",
        "from sklearn.pipeline import Pipeline"
      ]
    },
    {
      "cell_type": "code",
      "execution_count": null,
      "metadata": {
        "colab": {
          "base_uri": "https://localhost:8080/"
        },
        "id": "7IXbjLZTRvQl",
        "outputId": "4c8bd83f-9d7c-4ae3-cc0f-57a57e3b24a2"
      },
      "outputs": [
        {
          "name": "stderr",
          "output_type": "stream",
          "text": [
            "/usr/local/lib/python3.10/dist-packages/sklearn/datasets/_openml.py:1022: FutureWarning: The default value of `parser` will change from `'liac-arff'` to `'auto'` in 1.4. You can set `parser='auto'` to silence this warning. Therefore, an `ImportError` will be raised from 1.4 if the dataset is dense and pandas is not installed. Note that the pandas parser may return different data types. See the Notes Section in fetch_openml's API doc for details.\n",
            "  warn(\n"
          ]
        }
      ],
      "source": [
        "# Load MNIST dataset\n",
        "mnist = fetch_openml('mnist_784', version=1)\n",
        "X, y = mnist.data, mnist.target"
      ]
    },
    {
      "cell_type": "code",
      "execution_count": null,
      "metadata": {
        "id": "SLxF9_qmIWpR"
      },
      "outputs": [],
      "source": [
        "# Use a subset of the dataset for quicker computation\n",
        "subset_size = 10000\n",
        "X, y = X[:subset_size], y[:subset_size]"
      ]
    },
    {
      "cell_type": "code",
      "execution_count": null,
      "metadata": {
        "id": "fSPEjOnvRxeC"
      },
      "outputs": [],
      "source": [
        "# Standardize the data\n",
        "scaler = StandardScaler()\n",
        "X = scaler.fit_transform(X)"
      ]
    },
    {
      "cell_type": "code",
      "execution_count": null,
      "metadata": {
        "id": "AMPZfcyHRzDK"
      },
      "outputs": [],
      "source": [
        "# Define models\n",
        "models = {\n",
        "    \"Logistic Regression\": LogisticRegression(max_iter=1000),\n",
        "    \"Random Forest\": RandomForestClassifier(n_estimators=100),\n",
        "    \"Support Vector Machine\": SVC(kernel='linear')\n",
        "}"
      ]
    },
    {
      "cell_type": "code",
      "execution_count": null,
      "metadata": {
        "id": "wW516FtwR1Dy"
      },
      "outputs": [],
      "source": [
        "# K-Fold Cross-Validation\n",
        "kf = KFold(n_splits=5, shuffle=True, random_state=42)"
      ]
    },
    {
      "cell_type": "code",
      "execution_count": null,
      "metadata": {
        "colab": {
          "background_save": true,
          "base_uri": "https://localhost:8080/"
        },
        "id": "k0fFws2PR2h8",
        "outputId": "e33fe013-46c7-4a47-dcc1-48c419788fbe"
      },
      "outputs": [
        {
          "name": "stdout",
          "output_type": "stream",
          "text": [
            "Logistic Regression Accuracy: 0.9162571428571429\n",
            "Random Forest Accuracy: 0.9689428571428571\n"
          ]
        }
      ],
      "source": [
        "# Compare models\n",
        "for model_name, model in models.items():\n",
        "    pipeline = Pipeline([('model', model)])\n",
        "    scores = cross_val_score(pipeline, X, y, cv=kf, scoring='accuracy')\n",
        "    print(f\"{model_name} Accuracy: {np.mean(scores)}\")"
      ]
    },
    {
      "cell_type": "code",
      "execution_count": null,
      "metadata": {
        "id": "EI6Id3XDTH10"
      },
      "outputs": [],
      "source": [
        "# Analyze performance\n",
        "results = {\n",
        "    \"Logistic Regression\": [],\n",
        "    \"Random Forest\": [],\n",
        "    \"Support Vector Machine\": []\n",
        "}"
      ]
    },
    {
      "cell_type": "code",
      "execution_count": null,
      "metadata": {
        "colab": {
          "base_uri": "https://localhost:8080/"
        },
        "id": "sBgL92aATJ-N",
        "outputId": "f137f5a6-81f2-4710-c943-66fa44e31236"
      },
      "outputs": [
        {
          "name": "stdout",
          "output_type": "stream",
          "text": [
            "Logistic Regression Scores: [0.904  0.8815 0.892  0.873  0.8885]\n",
            "Logistic Regression Mean Accuracy: 0.8877999999999998\n",
            "Logistic Regression Standard Deviation: 0.010385566907973792\n",
            "Random Forest Scores: [0.9495 0.949  0.949  0.945  0.9485]\n",
            "Random Forest Mean Accuracy: 0.9481999999999999\n",
            "Random Forest Standard Deviation: 0.0016309506430300213\n",
            "Support Vector Machine Scores: [0.9225 0.9105 0.9215 0.9015 0.9135]\n",
            "Support Vector Machine Mean Accuracy: 0.9138999999999999\n",
            "Support Vector Machine Standard Deviation: 0.00770973410695856\n"
          ]
        }
      ],
      "source": [
        "# K-Fold Cross-Validation\n",
        "for model_name, model in models.items():\n",
        "    pipeline = Pipeline([('model', model)])\n",
        "    scores = cross_val_score(pipeline, X, y, cv=kf, scoring='accuracy')\n",
        "    results[model_name] = scores\n",
        "    print(f\"{model_name} Scores: {scores}\")\n",
        "    print(f\"{model_name} Mean Accuracy: {np.mean(scores)}\")\n",
        "    print(f\"{model_name} Standard Deviation: {np.std(scores)}\")"
      ]
    },
    {
      "cell_type": "code",
      "execution_count": null,
      "metadata": {
        "colab": {
          "base_uri": "https://localhost:8080/",
          "height": 564
        },
        "id": "hU__akoATMEt",
        "outputId": "85a2ebbd-4493-4f35-8131-ce1fc1706d1d"
      },
      "outputs": [
        {
          "data": {
            "image/png": "[encoded data removed]",
            "text/plain": [
              "<Figure size 1000x600 with 1 Axes>"
            ]
          },
          "metadata": {},
          "output_type": "display_data"
        }
      ],
      "source": [
        "# Plotting results\n",
        "import matplotlib.pyplot as plt\n",
        "\n",
        "plt.figure(figsize=(10, 6))\n",
        "for model_name, scores in results.items():\n",
        "    plt.plot(range(1, kf.n_splits + 1), scores, marker='o', label=model_name)\n",
        "\n",
        "plt.xlabel('Fold')\n",
        "plt.ylabel('Accuracy')\n",
        "plt.title('Model Comparison Using K-Fold Cross-Validation')\n",
        "plt.legend()\n",
        "plt.show()"
      ]
    }
  ],
  "metadata": {
    "accelerator": "GPU",
    "colab": {
      "gpuType": "T4",
      "provenance": []
    },
    "kernelspec": {
      "display_name": "Python 3",
      "name": "python3"
    },
    "language_info": {
      "name": "python"
    }
  },
  "nbformat": 4,
  "nbformat_minor": 0
}